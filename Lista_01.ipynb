#1 Peça ao usuário dois números e exiba a soma entre eles.
ValorA= int(input("Usuário diga a sua duvida de adição valor A: "))
ValorB= int(input("Usuário diga a sua duvida de adição valor B: "))
print(ValorA + ValorB)

#2 Solicite quatro notas de um aluno e calcule a média.
Nota1= float(input("Digite a nota 1 do aluno: "))
Nota2= float(input("Digite a nota 2 do aluno: "))
Nota3= float(input("Digite a nota 3 do aluno: "))
Nota4= float(input("Digite a nota 4 do aluno: "))
print((Nota1 + Nota2 + Nota3 + Nota4)/4)

#3 Peça um valor em metros e converta para centímetros (1 metro = 100 centímetros).
Metro= float(input("Digite o valor em metros: "))
print(Metro * 100) 

#4 Peça o valor do lado de um quadrado e calcule a área (lado × lado).
Lado= float(input("Digite o valor do lado do quadrado: "))
print(Lado * Lado)

#5 Solicite o valor ganho por hora e o número de horas trabalhadas no mês. Calcule o salário mensal.
Valor= float(input("Digite o valor ganho por hora: "))
Horas= float(input("Digite o número de horas trabalhadas no mês: "))
print(Valor * Horas)

#6 Peça um número e exiba o seu antecessor e sucessor.
Número= int(input("Digite um número: "))
print(f"O antecessor é: {Número - 1}")
print(f"O sucessor é: {Número + 1}")

#7 Peça um número ao usuário e mostre: o dobro, o triplo, a raiz quadrada (use ** 0.5).
Número= int(input("Digite um número: "))
print(f"O dobro é: {Número * 2}")
print(f"O triplo é: {Número * 3}")
print(f"A raiz quadrada é: {Número ** 0.5}")

#8 Peça a temperatura em graus Celsius e converta para Fahrenheit.
Tcelsius= float(input("Digite a temperatura em graus Celsius: "))
print(f"A temperatura em graus Fahrenheit é: {(Tcelsius * 1.8) + 32}")

#9 Peça o preço de um produto e mostre o valor com 10% de desconto.
Preço= float(input("Digite o preço do produto: "))
print(f"O valor com 10% de desconto é: {Preço * 0.1}")

#10 Peça o valor total de uma conta e o número de pessoas. Mostre quanto cada pessoa deve pagar.
Valor= float(input("Digite o valor total da conta: "))
Pessoas= int(input("Digite o número de pessoas: "))
print(f"Cada pessoa deve pagar: {Valor / Pessoas}")
