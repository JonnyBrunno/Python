{
  "nbformat": 4,
  "nbformat_minor": 0,
  "metadata": {
    "colab": {
      "provenance": [],
      "authorship_tag": "ABX9TyOjvyPOzL5bwx77ADKdh502",
      "include_colab_link": true
    },
    "kernelspec": {
      "name": "python3",
      "display_name": "Python 3"
    },
    "language_info": {
      "name": "python"
    }
  },
  "cells": [
    {
      "cell_type": "markdown",
      "metadata": {
        "id": "view-in-github",
        "colab_type": "text"
      },
      "source": [
        "<a href=\"https://colab.research.google.com/github/JonnyBrunno/Python/blob/main/Python.ipynb\" target=\"_parent\"><img src=\"https://colab.research.google.com/assets/colab-badge.svg\" alt=\"Open In Colab\"/></a>"
      ]
    },
    {
      "cell_type": "code",
      "execution_count": null,
      "metadata": {
        "colab": {
          "base_uri": "https://localhost:8080/"
        },
        "id": "MWu1hZWpP1G1",
        "outputId": "a9b19ffd-6191-4b59-e838-facc775b921c"
      },
      "outputs": [
        {
          "output_type": "stream",
          "name": "stdout",
          "text": [
            "7.333333333333333\n"
          ]
        }
      ],
      "source": [
        "\n",
        "p1=7\n",
        "p2=6\n",
        "p3=9\n",
        "\n",
        "media= ((p1 + p2 + p3)/3)\n",
        "print(media)"
      ]
    },
    {
      "cell_type": "code",
      "source": [
        "#Calculando media\n",
        "\n",
        "Nota1=float(input(\"Digite a nota da prova 1: \"))\n",
        "Nota2=float(input(\"Digite a nota da prova 2: \"))\n",
        "Nota3=float(input(\"Digite a nota da prova 3: \"))\n",
        "\n",
        "media=((Nota1 + Nota2 + Nota3)/3)\n",
        "\n",
        "print(\"media é: %.2f\" %media)"
      ],
      "metadata": {
        "colab": {
          "base_uri": "https://localhost:8080/"
        },
        "id": "8OYRc6y7ZDfW",
        "outputId": "7e348544-ee35-4c4d-ebf3-a0dee55242f0"
      },
      "execution_count": null,
      "outputs": [
        {
          "output_type": "stream",
          "name": "stdout",
          "text": [
            "Digite a nota da prova 1: 5\n",
            "Digite a nota da prova 2: 9\n",
            "Digite a nota da prova 3: 7\n",
            "media é: 7.00\n"
          ]
        }
      ]
    },
    {
      "cell_type": "code",
      "source": [
        "Código= input(\"Número da peça: \")\n",
        "print(Código)\n",
        "Valor = float(input(\"Valor da Peça: \"))\n",
        "print(Valor)\n",
        "Quant = float(input(\"Quantidades de Peça: \"))\n",
        "print(Quant)\n",
        "Total =(Valor*Quant)\n",
        "print(Total)"
      ],
      "metadata": {
        "colab": {
          "base_uri": "https://localhost:8080/"
        },
        "id": "Hri457l2hR2A",
        "outputId": "a55b6e04-cb5a-440b-edf8-055cf77a9777"
      },
      "execution_count": null,
      "outputs": [
        {
          "output_type": "stream",
          "name": "stdout",
          "text": [
            "Número da peça: 456\n",
            "456\n",
            "Valor da Peça: 55\n",
            "55.0\n",
            "Quantidades de Peça: 2\n",
            "2.0\n",
            "110.0\n"
          ]
        }
      ]
    },
    {
      "cell_type": "code",
      "source": [
        "sequencia = [-8, -7, -3, 4, 14]\n",
        "diferencas = [1, 4, 7, 10, 13]\n",
        "proximo = sequencia[-1] + diferencas[-1]\n",
        "print(\"Próximo termo da sequência:\", proximo)\n"
      ],
      "metadata": {
        "colab": {
          "base_uri": "https://localhost:8080/"
        },
        "id": "24MpvDktjQUd",
        "outputId": "de9fbef8-fa86-49b5-9d3a-12f6cfdc4a6c"
      },
      "execution_count": null,
      "outputs": [
        {
          "output_type": "stream",
          "name": "stdout",
          "text": [
            "Próximo termo da sequência: 27\n"
          ]
        }
      ]
    },
    {
      "cell_type": "code",
      "source": [
        "Lmaior1= float(input(\"Valor do Lado 1: \"))\n",
        "Lmaior1_1= float(input(\"Valor do Lado 1_1: \"))\n",
        "Lmaior2= float(input(\"Valor do Lado 2: \"))\n",
        "Lmaior2_1= float(input(\"Valor do Lado 2_1: \"))\n",
        "Perímetro= (Lmaior1 + Lmaior1_1 + Lmaior2 + Lmaior2_1)\n",
        "print(f\"O perímetro é: {Perímetro: .2f}\")"
      ],
      "metadata": {
        "colab": {
          "base_uri": "https://localhost:8080/"
        },
        "id": "MR12szZptPAW",
        "outputId": "55b91abe-2463-4558-ce30-5a6294191916"
      },
      "execution_count": null,
      "outputs": [
        {
          "output_type": "stream",
          "name": "stdout",
          "text": [
            "Valor do Lado 1: 5\n",
            "Valor do Lado 1_1: 5\n",
            "Valor do Lado 2: 3\n",
            "Valor do Lado 2_1: 3\n",
            "O perímetro é:  16.00\n"
          ]
        }
      ]
    },
    {
      "cell_type": "code",
      "source": [
        "bit= input(\"Insira no min 8 valors bit: \")\n",
        "P1= int(bit[0])\n",
        "P2= int(bit[1])\n",
        "P3= int(bit[2])\n",
        "P4= int(bit[3])\n",
        "P5= int(bit[4])\n",
        "P6= int(bit[5])\n",
        "P7= int(bit[6])\n",
        "P8= int(bit[7])\n",
        "print(P1, P2, P3, P4, P5, P6, P7, P8)\n",
        "EP1 = P1 * (2 ** 7)\n",
        "EP2 = P2 * (2 ** 6)\n",
        "EP3 = P3 * (2 ** 5)\n",
        "EP4 = P4 * (2 ** 4)\n",
        "EP5 = P5 * (2 ** 3)\n",
        "EP6 = P6 * (2 ** 2)\n",
        "EP7 = P7 * (2 ** 1)\n",
        "EP8 = P8 * (2 ** 0)\n",
        "soma= EP1 + EP2 + EP3 + EP4 + EP5 + EP6 + EP7 + EP8\n",
        "print(soma)"
      ],
      "metadata": {
        "colab": {
          "base_uri": "https://localhost:8080/"
        },
        "id": "ELrDzH4U5iWM",
        "outputId": "e6990618-6670-449b-d393-da7cdb1638ff"
      },
      "execution_count": null,
      "outputs": [
        {
          "output_type": "stream",
          "name": "stdout",
          "text": [
            "Insira no min 8 valors bit: 10011010\n",
            "1 0 0 1 1 0 1 0\n",
            "154\n"
          ]
        }
      ]
    },
    {
      "cell_type": "code",
      "source": [
        "bit = input(\"Insira no min 8 valores bit: \")\n",
        "# Reverse the bit string to process from least significant bit\n",
        "reversed_bit = bit[::-1]\n",
        "\n",
        "decimal_value = 0\n",
        "for i in range(len(reversed_bit)):\n",
        "    # Convert each bit character to an integer\n",
        "    bit_value = int(reversed_bit[i])\n",
        "    # Add the value of the bit at its position (2^i) to the decimal value\n",
        "    decimal_value += bit_value * (2 ** i)\n",
        "\n",
        "print(f\"O valor decimal é: {decimal_value}\")"
      ],
      "metadata": {
        "colab": {
          "base_uri": "https://localhost:8080/"
        },
        "id": "PGYCCtE-yZmT",
        "outputId": "273f3a53-1621-419f-b8fa-2bbfda145873"
      },
      "execution_count": null,
      "outputs": [
        {
          "output_type": "stream",
          "name": "stdout",
          "text": [
            "Insira no min 8 valores bit: 010011010\n",
            "O valor decimal é: 154\n"
          ]
        }
      ]
    },
    {
      "cell_type": "code",
      "source": [
        "A = 25\n",
        "B = 15\n",
        "\n",
        "if A > B:\n",
        "    print(\"A é maior que B\")\n",
        "elif B > A:\n",
        "    print(\"B é maior que A\")\n",
        "else:\n",
        "    print(\"A é igual a B\")"
      ],
      "metadata": {
        "colab": {
          "base_uri": "https://localhost:8080/"
        },
        "id": "Txp9HrmSGH6d",
        "outputId": "93802fcd-3d71-40c8-9855-fabba0ba2360"
      },
      "execution_count": null,
      "outputs": [
        {
          "output_type": "stream",
          "name": "stdout",
          "text": [
            "A é maior que B\n"
          ]
        }
      ]
    },
    {
      "cell_type": "code",
      "source": [
        "Lmaior1= float(input(\"Valor do Lado 1: \"))\n",
        "Lmaior1_1= float(input(\"Valor do Lado 1_1: \"))\n",
        "Lmaior2= float(input(\"Valor do Lado 2: \"))\n",
        "Lmaior2_1= float(input(\"Valor do Lado 2_1: \"))\n",
        "Perímetro= (Lmaior1 + Lmaior1_1 + Lmaior2 + Lmaior2_1)\n",
        "print(f\"O perímetro é: {Perímetro: .2f}\")\n",
        "\n",
        "if Perímetro > 30:\n",
        "    print(\"O perímetro dentro do limite de 30m\")\n",
        "elif Perímetro < 30:\n",
        "    print(\"O perímetro fora do limite de 30m\")"
      ],
      "metadata": {
        "colab": {
          "base_uri": "https://localhost:8080/"
        },
        "id": "XLq3dgeUH0oo",
        "outputId": "60ab78b9-62a2-4aa1-b264-6056f27762ca"
      },
      "execution_count": null,
      "outputs": [
        {
          "output_type": "stream",
          "name": "stdout",
          "text": [
            "Valor do Lado 1: 6\n",
            "Valor do Lado 1_1: 6\n",
            "Valor do Lado 2: 4\n",
            "Valor do Lado 2_1: 4\n",
            "O perímetro é:  20.00\n",
            "O perímetro é menor que 30\n"
          ]
        }
      ]
    },
    {
      "cell_type": "code",
      "source": [
        "Lmaior1= float(input(\"Valor do Lado 1: \"))\n",
        "Lmaior1_1= float(input(\"Valor do Lado 1_1: \"))\n",
        "Lmaior2= float(input(\"Valor do Lado 2: \"))\n",
        "Lmaior2_1= float(input(\"Valor do Lado 2_1: \"))\n",
        "Perímetro= (Lmaior1 + Lmaior1_1 + Lmaior2 + Lmaior2_1)\n",
        "print(f\"O perímetro é: {Perímetro: .2f}\")\n",
        "\n",
        "Resultado = \" Perímetro maior que 30m\" if Perímetro > 30 else \"Perímetro menor que 30m\"\n",
        "print(Resultado)"
      ],
      "metadata": {
        "colab": {
          "base_uri": "https://localhost:8080/"
        },
        "id": "1sLgce4mNvOT",
        "outputId": "2e28d0cc-698b-4201-ddec-220c974cbae9"
      },
      "execution_count": null,
      "outputs": [
        {
          "output_type": "stream",
          "name": "stdout",
          "text": [
            "Valor do Lado 1: 6\n",
            "Valor do Lado 1_1: 6\n",
            "Valor do Lado 2: 5\n",
            "Valor do Lado 2_1: 5\n",
            "O perímetro é:  22.00\n",
            "Perímetro menor que 30m\n"
          ]
        }
      ]
    },
    {
      "cell_type": "code",
      "source": [
        "Candidato = int(input(\"Idade do candidato: \"))\n",
        "\n",
        "if Candidato >= 5 and Candidato <= 7:\n",
        "    print(\"A\")\n",
        "elif Candidato >= 8 and Candidato <= 11:\n",
        "    print(\"B\")\n",
        "elif Candidato >= 12 and Candidato <= 13:\n",
        "    print(\"C\")\n",
        "elif Candidato >= 14 and Candidato <= 17:\n",
        "    print(\"D\")\n",
        "else:\n",
        "    print(\"E\")"
      ],
      "metadata": {
        "colab": {
          "base_uri": "https://localhost:8080/"
        },
        "id": "euWj5cDZRFi7",
        "outputId": "282e2040-87b7-409d-ac9b-4760ef58b31e"
      },
      "execution_count": null,
      "outputs": [
        {
          "output_type": "stream",
          "name": "stdout",
          "text": [
            "Idade do candidato: 6\n",
            "A\n"
          ]
        }
      ]
    },
    {
      "cell_type": "code",
      "source": [
        "Inscrito = input(\"Inscrito: \")\n",
        "if Inscrito == \"C\" or Inscrito == \"c\":\n",
        "    print(\"Casado\")\n",
        "elif Inscrito == \"S\" or Inscrito == \"s\":\n",
        "    print(\"Solteiro\")\n",
        "elif Inscrito == \"D\" or Inscrito == \"d\":\n",
        "    print(\"Divorciado\")\n",
        "elif Inscrito == \"V\" or Inscrito == \"v\":\n",
        "    print(\"Viúvo\")\n",
        "else:\n",
        "    print(\"Estado civil incorreto\")"
      ],
      "metadata": {
        "colab": {
          "base_uri": "https://localhost:8080/"
        },
        "id": "0RsXhhcZYV4l",
        "outputId": "67960c6f-4d62-4309-90c1-3d11249f05ea"
      },
      "execution_count": null,
      "outputs": [
        {
          "output_type": "stream",
          "name": "stdout",
          "text": [
            "Inscrito: c\n",
            "Casado\n"
          ]
        }
      ]
    },
    {
      "cell_type": "code",
      "source": [
        "Peixes= float(input(\"Quantidade de peixes em Kg: \"))\n",
        "if Peixes <= 50:\n",
        "    print(\"Não houve excesso, logo não tem multa\")\n",
        "elif Peixes > 50:\n",
        "    print(\"Houve excesso, logo você deve pagar a multa de: \" f\"R${(Peixes - 50) * 4: .2f}\")"
      ],
      "metadata": {
        "colab": {
          "base_uri": "https://localhost:8080/"
        },
        "id": "dP9l6myOdBc-",
        "outputId": "fcc62d0d-025c-47a1-e4ae-5f3930baa7ec"
      },
      "execution_count": null,
      "outputs": [
        {
          "output_type": "stream",
          "name": "stdout",
          "text": [
            "Quantidade de peixes em Kg: 52\n",
            "Houve excesso, logo você deve pagar a multa de: R$ 8.00\n"
          ]
        }
      ]
    },
    {
      "cell_type": "code",
      "source": [
        "# Cargos e Salarios\n",
        "cargo_456 = \"Cargo: Dev_Back-End-Python\"\n",
        "salario_456 = \"Salario: R$: 7.000\"\n",
        "cargo_310 = \"Cargo: Dev_Front-End-React\"\n",
        "salario_310 = \"Salario: R$: 5.000\"\n",
        "cargo_885 = \"Cargo: Dev_Full-Stack\"\n",
        "salario_885 = \"Salario: R$: 9.000\"\n",
        "cargod = \"Cargo: Estagiario\"\n",
        "salariod = \"Salario: R$: 1.800\"\n",
        "\n",
        "Cargo = input(\"Digite o código do cargo: \")\n",
        "\n",
        "if Cargo == \"456\":\n",
        "    print(cargo_456, salario_456)\n",
        "elif Cargo == \"310\":\n",
        "    print(cargo_310, salario_310)\n",
        "elif Cargo == \"885\":\n",
        "    print(cargo_885, salario_885)\n",
        "else:\n",
        "    print(cargod, salariod)\n",
        "\n",
        "# Aumentos\n",
        "\n",
        "if Cargo == \"456\":\n",
        "    Salario = 7000 * (1 + 0.05)\n",
        "    print(f\"Seu novo salario é: {Salario: .2f}\")\n",
        "elif Cargo == \"310\":\n",
        "    Salario = 5000 * (1 + 0.035)\n",
        "    print(f\"Seu novo salario é: {Salario: .2f}\")\n",
        "elif Cargo == \"885\":\n",
        "    Salario = 9000 * (1 + 0.10)\n",
        "    print(f\"Seu novo salario é: {Salario: .2f}\")\n",
        "else:\n",
        "    Salario = 1800 * (1 + 0.025)\n",
        "    print(f\"Seu novo salario é: {Salario: .2f}\")"
      ],
      "metadata": {
        "colab": {
          "base_uri": "https://localhost:8080/"
        },
        "id": "B8PFjS_Mh_kq",
        "outputId": "887aa8e1-ec43-42df-f78d-f034e6a0c49d"
      },
      "execution_count": null,
      "outputs": [
        {
          "output_type": "stream",
          "name": "stdout",
          "text": [
            "Digite o código do cargo: 632\n",
            "Cargo: Estagiario Salario: R$: 1.800\n",
            "Seu novo salario é:  1845.00\n"
          ]
        }
      ]
    },
    {
      "cell_type": "code",
      "source": [
        "# Lista 01\n",
        "\n",
        "#1 Peça ao usuário dois números e exiba a soma entre eles.\n",
        "ValorA= int(input(\"Usuário diga a sua duvida de adição valor A: \"))\n",
        "ValorB= int(input(\"Usuário diga a sua duvida de adição valor B: \"))\n",
        "print(ValorA + ValorB)"
      ],
      "metadata": {
        "colab": {
          "base_uri": "https://localhost:8080/"
        },
        "id": "RRcVbzxJ58Nd",
        "outputId": "b6a50ec5-4340-4f9d-c464-bf636dfea053"
      },
      "execution_count": 3,
      "outputs": [
        {
          "output_type": "stream",
          "name": "stdout",
          "text": [
            "Usuário diga a sua duvida de adição valor A: 6\n",
            "Usuário diga a sua duvida de adição valor B: 4\n",
            "10\n"
          ]
        }
      ]
    },
    {
      "cell_type": "code",
      "source": [
        "# Lista 01\n",
        "\n",
        "#2 Solicite quatro notas de um aluno e calcule a média.\n",
        "Nota1= float(input(\"Digite a nota 1 do aluno: \"))\n",
        "Nota2= float(input(\"Digite a nota 2 do aluno: \"))\n",
        "Nota3= float(input(\"Digite a nota 3 do aluno: \"))\n",
        "Nota4= float(input(\"Digite a nota 4 do aluno: \"))\n",
        "print((Nota1 + Nota2 + Nota3 + Nota4)/4)\n"
      ],
      "metadata": {
        "colab": {
          "base_uri": "https://localhost:8080/"
        },
        "id": "xUfee-lv7ZOW",
        "outputId": "d35382ed-3f28-499f-d04b-014504e1a712"
      },
      "execution_count": 4,
      "outputs": [
        {
          "output_type": "stream",
          "name": "stdout",
          "text": [
            "Digite a nota 1 do aluno: 5\n",
            "Digite a nota 2 do aluno: 6\n",
            "Digite a nota 3 do aluno: 2\n",
            "Digite a nota 4 do aluno: 10\n",
            "5.75\n"
          ]
        }
      ]
    },
    {
      "cell_type": "code",
      "source": [
        "# Lista 01\n",
        "\n",
        "#3 Peça um valor em metros e converta para centímetros (1 metro = 100 centímetros).\n",
        "Metro= float(input(\"Digite o valor em metros: \"))\n",
        "print(Metro * 100)\n"
      ],
      "metadata": {
        "colab": {
          "base_uri": "https://localhost:8080/"
        },
        "id": "zFBPlj408Owp",
        "outputId": "1bb590b9-763f-4b9e-bc1c-1b14cbe27e0d"
      },
      "execution_count": 5,
      "outputs": [
        {
          "output_type": "stream",
          "name": "stdout",
          "text": [
            "Digite o valor em metros: 5\n",
            "500.0\n"
          ]
        }
      ]
    },
    {
      "cell_type": "code",
      "source": [
        "# Lista 01\n",
        "\n",
        "#4 Peça o valor do lado de um quadrado e calcule a área (lado × lado).\n",
        "Lado= float(input(\"Digite o valor do lado do quadrado: \"))\n",
        "print(Lado * Lado)"
      ],
      "metadata": {
        "colab": {
          "base_uri": "https://localhost:8080/"
        },
        "id": "-04KI5Gd84wn",
        "outputId": "082a9973-265f-4713-fb42-78b5daf98d90"
      },
      "execution_count": 6,
      "outputs": [
        {
          "output_type": "stream",
          "name": "stdout",
          "text": [
            "Digite o valor do lado do quadrado: 4\n",
            "16.0\n"
          ]
        }
      ]
    },
    {
      "cell_type": "code",
      "source": [
        "# Lista 01\n",
        "\n",
        "#5 Solicite o valor ganho por hora e o número de horas trabalhadas no mês. Calcule o salário mensal.\n",
        "Valor= float(input(\"Digite o valor ganho por hora: \"))\n",
        "Horas= float(input(\"Digite o número de horas trabalhadas no mês: \"))\n",
        "print(Valor * Horas)"
      ],
      "metadata": {
        "colab": {
          "base_uri": "https://localhost:8080/"
        },
        "id": "GyaH0tqu9Qe3",
        "outputId": "2081cf6b-4e76-4119-ccbb-a8f2a5b8431a"
      },
      "execution_count": 7,
      "outputs": [
        {
          "output_type": "stream",
          "name": "stdout",
          "text": [
            "Digite o valor ganho por hora: 15.00\n",
            "Digite o número de horas trabalhadas no mês: 120\n",
            "1800.0\n"
          ]
        }
      ]
    },
    {
      "cell_type": "code",
      "source": [
        "# Lista 01\n",
        "\n",
        "#6 Peça um número e exiba o seu antecessor e sucessor.\n",
        "Número= int(input(\"Digite um número: \"))\n",
        "print(f\"O antecessor é: {Número - 1}\")\n",
        "print(f\"O sucessor é: {Número + 1}\")"
      ],
      "metadata": {
        "colab": {
          "base_uri": "https://localhost:8080/"
        },
        "id": "DmzXiiGYFd7G",
        "outputId": "009f5c43-9c97-4dfd-e4d2-fd91dcb2ac4a"
      },
      "execution_count": 8,
      "outputs": [
        {
          "output_type": "stream",
          "name": "stdout",
          "text": [
            "Digite um número: 5\n",
            "O antecessor é: 4\n",
            "O sucessor é: 6\n"
          ]
        }
      ]
    },
    {
      "cell_type": "code",
      "source": [
        "# Lista 01\n",
        "\n",
        "# Peça um número ao usuário e mostre: o dobro, o triplo, a raiz quadrada (use ** 0.5).\n",
        "Número= int(input(\"Digite um número: \"))\n",
        "print(f\"O dobro é: {Número * 2}\")\n",
        "print(f\"O triplo é: {Número * 3}\")\n",
        "print(f\"A raiz quadrada é: {Número ** 0.5}\")\n"
      ],
      "metadata": {
        "colab": {
          "base_uri": "https://localhost:8080/"
        },
        "id": "x5Eh-8ywGTZ8",
        "outputId": "56c52f9f-2cb9-4af7-8e17-f74043c296c3"
      },
      "execution_count": 9,
      "outputs": [
        {
          "output_type": "stream",
          "name": "stdout",
          "text": [
            "Digite um número: 81\n",
            "O dobro é: 162\n",
            "O triplo é: 243\n",
            "A raiz quadrada é: 9.0\n"
          ]
        }
      ]
    },
    {
      "cell_type": "code",
      "source": [
        "# Lista 01\n",
        "\n",
        "#8 Peça a temperatura em graus Celsius e converta para Fahrenheit.\n",
        "Tcelsius= float(input(\"Digite a temperatura em graus Celsius: \"))\n",
        "print(f\"A temperatura em graus Fahrenheit é: {(Tcelsius * 1.8) + 32}\")"
      ],
      "metadata": {
        "colab": {
          "base_uri": "https://localhost:8080/"
        },
        "id": "5I1l_i4nGm9V",
        "outputId": "62e3e0b7-c6b7-4ef9-821b-79d62f6fa693"
      },
      "execution_count": 10,
      "outputs": [
        {
          "output_type": "stream",
          "name": "stdout",
          "text": [
            "Digite a temperatura em graus Celsius: 24\n",
            "A temperatura em graus Fahrenheit é: 75.2\n"
          ]
        }
      ]
    },
    {
      "cell_type": "code",
      "source": [
        "# Lista 01\n",
        "\n",
        "#9 Peça o preço de um produto e mostre o valor com 10% de desconto.\n",
        "Preço= float(input(\"Digite o preço do produto: \"))\n",
        "print(f\"O valor com 10% de desconto é: {Preço * 0.1}\")"
      ],
      "metadata": {
        "colab": {
          "base_uri": "https://localhost:8080/"
        },
        "id": "fjtFHyeJG-1P",
        "outputId": "4564526f-5d73-425c-c082-59de527c2206"
      },
      "execution_count": 11,
      "outputs": [
        {
          "output_type": "stream",
          "name": "stdout",
          "text": [
            "Digite o preço do produto: 200\n",
            "O valor com 10% de desconto é: 20.0\n"
          ]
        }
      ]
    },
    {
      "cell_type": "code",
      "source": [
        "# Lista 01\n",
        "\n",
        "#10 Peça o valor total de uma conta e o número de pessoas. Mostre quanto cada pessoa deve pagar.\n",
        "Valor= float(input(\"Digite o valor total da conta: \"))\n",
        "Pessoas= int(input(\"Digite o número de pessoas: \"))\n",
        "print(f\"Cada pessoa deve pagar: {Valor / Pessoas}\")"
      ],
      "metadata": {
        "colab": {
          "base_uri": "https://localhost:8080/"
        },
        "id": "L5xZQ_koHcBC",
        "outputId": "12abcc63-5c32-47a4-dc02-0994be3ab85b"
      },
      "execution_count": 12,
      "outputs": [
        {
          "output_type": "stream",
          "name": "stdout",
          "text": [
            "Digite o valor total da conta: 150\n",
            "Digite o número de pessoas: 3\n",
            "Cada pessoa deve pagar: 50.0\n"
          ]
        }
      ]
    },
